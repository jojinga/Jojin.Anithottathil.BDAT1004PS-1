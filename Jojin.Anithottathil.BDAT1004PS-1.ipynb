{
 "cells": [
  {
   "cell_type": "markdown",
   "id": "e2895a8c",
   "metadata": {},
   "source": [
    "1. What data type is each of the following? \n",
    " \n",
    "5 5.0  5 > 1  '5'  5 * 2  '5' * 2  '5' + '2'  5 / 2  5 % 2  {5, 2, 1}  5 == 3  Pi (the number) \n",
    "\n",
    "5\t\t\t    int\n",
    "5.0 \t\t\tDouble\n",
    "5 > 1\t\t\tBoolean\n",
    "'5'\t\t\t    Char\n",
    "5 * 2\t\t\tint\n",
    "'5' * 2\t\t\tint\n",
    "‘5' + '2'\t\tint\n",
    "5 / 2\t\t\tint\n",
    "5 % 2\t\t\tint\n",
    "{5, 2, 1}\t\tList\n",
    "5 == 3\t\t\tBoolean\t\n",
    "Pi (the number)\tDouble\n",
    "\n"
   ]
  },
  {
   "cell_type": "markdown",
   "id": "0fa3da62",
   "metadata": {},
   "source": [
    "using System;\n",
    "\n",
    "namespace Question1\n",
    "{\n",
    "    class Program\n",
    "    {\n",
    "        static void Main(string[] args)\n",
    "        {\n",
    "            // Here we are storing variables\n",
    "            var s1 = 5;\n",
    "            var s2 = 5.0;\n",
    "            var s3 = 5 > 1;\n",
    "            var s4 = '5';\n",
    "            var s5 = 5 * 2;\n",
    "            var s6 = '5' * 2;\n",
    "            var s7 = '5' + '2';\n",
    "            var s8 = 5 / 2;\n",
    "            var s9 = 5 % 2;\n",
    "            var a2 = 5 == 3;\n",
    "            var a3 = 3.14;\n",
    "// Here we are using the code to find the datatype of the variables\n",
    "            Console.WriteLine(s1+\"'s data type =\"+s1.GetType());\n",
    "            Console.WriteLine(s2+ \"'s data type =\"+s2.GetType());\n",
    "            Console.WriteLine(s3+ \"'s data type =\"+s3.GetType());\n",
    "            Console.WriteLine(s4+ \"'s data type =\"+s4.GetType());\n",
    "            Console.WriteLine(s5+ \"'s data type =\"+s5.GetType());\n",
    "            Console.WriteLine(s6+ \"'s data type =\"+s6.GetType());\n",
    "            Console.WriteLine(s7+ \"'s data type =\"+s7.GetType());\n",
    "            Console.WriteLine(s8+ \"'s data type =\"+s8.GetType());\n",
    "            Console.WriteLine(s9+ \"'s data type =\"+s9.GetType());\n",
    "            Console.WriteLine(a2.GetType());\n",
    "            Console.WriteLine(a3.GetType());\n",
    "\n",
    "        }\n",
    "    }\n",
    "}\n",
    "\n",
    "\n"
   ]
  },
  {
   "cell_type": "markdown",
   "id": "0b423903",
   "metadata": {},
   "source": [
    "<center><img title=\"a title\" alt=\"Alt text\" src=\"ques1.jpg\"></center>\n"
   ]
  },
  {
   "cell_type": "markdown",
   "id": "6f6712f2",
   "metadata": {},
   "source": [
    "2a. Write (and evaluate) C# expressions that answer these questions:  a. How many letters are there in 'Supercalifragilisticexpialidocious'? "
   ]
  },
  {
   "cell_type": "markdown",
   "id": "e4cb3204",
   "metadata": {},
   "source": [
    "using System;\n",
    "\n",
    "namespace Question2\n",
    "{\n",
    "    class Program\n",
    "    {\n",
    "        static void Main(string[] args)\n",
    "        {\n",
    "            //we will find the string length using the library function .length\n",
    "\n",
    "            string s = \"Supercalifragilisticexpialidocious\";\n",
    "            int len = s.Length;\n",
    "\n",
    "            Console.WriteLine(\"Length of the string is : \" + len + \"\\n\");\n",
    "\n",
    "            //here we are finding the string length without using library function\n",
    "\n",
    "            int length = 0;\n",
    "            foreach (char chr in s)\n",
    "            {\n",
    "                length += 1;\n",
    "\n",
    "            }\n",
    "            Console.WriteLine(\"Length of the string is : \" + length);\n",
    "        }\n",
    "    }\n",
    "}"
   ]
  },
  {
   "cell_type": "markdown",
   "id": "dee8aab6",
   "metadata": {},
   "source": [
    "<center><img title=\"a title\" alt=\"Alt text\" src=\"ques2.jpg\"></center>\n"
   ]
  },
  {
   "cell_type": "markdown",
   "id": "84da6811",
   "metadata": {},
   "source": [
    "2b. Does 'Supercalifragilisticexpialidocious' contain 'ice' as a substring? "
   ]
  },
  {
   "cell_type": "markdown",
   "id": "b557c205",
   "metadata": {},
   "source": [
    "using System\n",
    "namespace Question2b\n",
    "{\n",
    "\n",
    "\tclass Program\n",
    "\t{\n",
    "\t\tstatic void Main(string[] args)\n",
    "\t\t{\n",
    "\t\t\t//string containing a substring using library function\n",
    "\t\t\tstring s = \"Supercalifragilisticexpialidocious\";\n",
    "\t\t\tstring a = \"ice\";\n",
    "\t\t\tbool str = s.Contains(a);\n",
    "\t\t\tif (str == true)\n",
    "\t\t\t\tConsole.WriteLine(\"'Supercalifragilisticexpialidocious' contain 'ice' as a substring\");\n",
    "\t\t\telse\n",
    "\t\t\t\tConsole.WriteLine(\"'Supercalifragilisticexpialidocious' does not contain 'ice' as a substring\");\n",
    "\t\t\t\n",
    "\t\t}\n",
    "\t}\n",
    "}\n",
    "\n"
   ]
  },
  {
   "cell_type": "markdown",
   "id": "dbed1236",
   "metadata": {},
   "source": [
    "<center><img title=\"a title\" alt=\"Alt text\" src=\"ques2b.jpg\"></center>\n"
   ]
  },
  {
   "cell_type": "markdown",
   "id": "d98c0757",
   "metadata": {},
   "source": [
    "2c. Which of the following words is the longest: Supercalifragilisticexpialidocious, Honorificabilitudinitatibus,  or Bababadalgharaghtakamminarronnkonn? \n"
   ]
  },
  {
   "cell_type": "markdown",
   "id": "ecfbaca0",
   "metadata": {},
   "source": [
    "using System;\n",
    "\n",
    "namespace Question2c\n",
    "{\n",
    "\n",
    "    class Program\n",
    "    {\n",
    "        static void Main(string[] args)\n",
    "        {\n",
    "            string a = \"Supercalifragilisticexpialidocious\";\n",
    "            string b = \"Honorificabilitudinitatibus\";\n",
    "            string c = \"Bababadalgharaghtakamminarronnkonn\";\n",
    "            int num1, num2, num3;\n",
    "            // set the value of the three numbers\n",
    "            num1 = a.Length;\n",
    "            num2 = b.Length;\n",
    "            num3 = c.Length;\n",
    "\n",
    "            if (num1 > num2)\n",
    "            {\n",
    "                if (num1 > num3)\n",
    "                {\n",
    "                    Console.WriteLine(a + \" is the largest!\\n\");\n",
    "                }\n",
    "                else if (num1 < num3)\n",
    "                {\n",
    "                    Console.WriteLine(c + \" is the largest!\\n\");\n",
    "                }\n",
    "                else if (num1 == num3)\n",
    "                {\n",
    "                    Console.WriteLine(a + \" is equal to \" + c);\n",
    "                }\n",
    "            }\n",
    "            else if (num2 > num3)\n",
    "                Console.WriteLine(b + \" is the largest!\\n\");\n",
    "            else if (num2 < num3)\n",
    "            {\n",
    "                Console.WriteLine(c + \" is the largest!\\n\");\n",
    "            }\n",
    "            else if (num2 == num3)\n",
    "            {\n",
    "                Console.WriteLine(b + \" is equal to \" + c);\n",
    "            }\n",
    "        }\n",
    "    }\n",
    "\n",
    "\n",
    "}\n",
    "\n"
   ]
  },
  {
   "cell_type": "markdown",
   "id": "3d8de416",
   "metadata": {},
   "source": [
    "<center><img title=\"a title\" alt=\"Alt text\" src=\"ques2c.jpg\"></center"
   ]
  },
  {
   "cell_type": "markdown",
   "id": "b9799c25",
   "metadata": {},
   "source": [
    "2d. Which composer comes first in the dictionary: 'Berlioz', 'Borodin', 'Brian', 'Bartok', 'Bellini', 'Buxtehude', 'Bernstein'. Which one comes last? "
   ]
  },
  {
   "cell_type": "markdown",
   "id": "5ddf968f",
   "metadata": {},
   "source": [
    "using System;\n",
    "using System.Collections.Generic;\n",
    "using System.Linq;\n",
    "using System.Text;\n",
    "namespace ConsoleApplication1\n",
    "{\n",
    "    class Program\n",
    "    {\n",
    "        static void Main()\n",
    "        {\n",
    "            List<string> names = new List<string>();\n",
    "            names.Add(\"Berlioz\");\n",
    "            names.Add(\"Borodin\");\n",
    "            names.Add(\"Brain\");\n",
    "            names.Add(\"Bartok\");\n",
    "            names.Add(\"Bellini\");\n",
    "            names.Add(\"Buxtehude\");\n",
    "            names.Add(\"Bernstein\");\n",
    "            names.Sort();\n",
    "            foreach (string s in names) \n",
    "            Console.WriteLine(s);\n",
    "            Console.ReadLine();\n",
    "        }\n",
    "    }\n",
    "}"
   ]
  },
  {
   "cell_type": "markdown",
   "id": "57d79e2c",
   "metadata": {},
   "source": [
    "<center><img title=\"a title\" alt=\"Alt text\" src=\"ques2d.jpg\"></center>\n"
   ]
  },
  {
   "cell_type": "markdown",
   "id": "4860b3bf",
   "metadata": {},
   "source": [
    "3. Implement function triangleArea(a,b,c) that takes as input the lengths of the 3 sides of a triangle and returns the area of the triangle. By Heron's formula, the area of a triangle with side lengths a, b, and c is s(s-a)(s-b)(s-c), where s=(a+b+c)/2."
   ]
  },
  {
   "cell_type": "markdown",
   "id": "f68642ad",
   "metadata": {},
   "source": [
    "using System;\n",
    "\n",
    "namespace Question3\n",
    "{\n",
    "    class Program\n",
    "    {\n",
    "        static void Main(string[] args)\n",
    "        {\n",
    "            //code to get the length of each side of the triangle\n",
    "\n",
    "            Console.WriteLine(\"Input the length of each side of a triangle: \");\n",
    "            Console.Write(\"Enter the length of side 1:\");\n",
    "            double side1 = Convert.ToDouble(Console.ReadLine());\n",
    "            Console.Write(\"Enter the length of side 2:\");\n",
    "            double side2 = Convert.ToDouble(Console.ReadLine());\n",
    "            Console.Write(\"Enter the length of side 3:\");\n",
    "            double side3 = Convert.ToDouble(Console.ReadLine());\n",
    "            double semiperimeter = (side1 + side2 + side3) / 2;\n",
    "\n",
    "            //Formula to calculate the area of triangle\n",
    "\n",
    "            double Area = Math.Sqrt(semiperimeter * (semiperimeter - side1) * (semiperimeter - side2) * (semiperimeter - side3));\n",
    "            Console.Write(\"Area of a Triangle = \" + Area);\n",
    "        }\n",
    "    }\n",
    "}\n"
   ]
  },
  {
   "cell_type": "markdown",
   "id": "864e8ff3",
   "metadata": {},
   "source": [
    "<center><img title=\"a title\" alt=\"Alt text\" src=\"ques3.jpg\"></center>\n"
   ]
  },
  {
   "cell_type": "markdown",
   "id": "a26d7055",
   "metadata": {},
   "source": [
    "4. Write a program in C# Sharp to separate odd and even integers in separate arrays.\n"
   ]
  },
  {
   "cell_type": "markdown",
   "id": "f5b58719",
   "metadata": {},
   "source": [
    "using System;\n",
    "\n",
    "namespace Question4\n",
    "{\n",
    "    class Program\n",
    "    {\n",
    "        static void Main(string[] args)\n",
    "        {\n",
    "\t//Declaring arrays of size 10\n",
    "            int[] arr1 = new int[10];\n",
    "            int[] arr2 = new int[10];\n",
    "            int[] arr3 = new int[10];\n",
    "            int i, j = 0, k = 0, n;\n",
    "            Console.Write(\"Input the number of elements to be stored in the array :\");\n",
    "            n = Convert.ToInt32(Console.ReadLine());\n",
    "\t//To store the number of elements in an array\n",
    "            Console.Write(\"Input \"+n+\" elements in the array :\\n\");\n",
    "            for (i = 0; i < n; i++)\n",
    "            {\n",
    "                Console.Write(\"element - \"+i+\" : \");\n",
    "                arr1[i] = Convert.ToInt32(Console.ReadLine());\n",
    "            }\n",
    "\t//To evaluate and sort even and odd numbers into two seperate arrays\n",
    "            for (i = 0; i < n; i++)\n",
    "            {\n",
    "                if (arr1[i] % 2 == 0)\n",
    "                {\n",
    "                    arr2[j] = arr1[i];\n",
    "                    j++;\n",
    "                }\n",
    "                else\n",
    "                {\n",
    "                    arr3[k] = arr1[i];\n",
    "                    k++;\n",
    "                }\n",
    "            }\n",
    "\t// To print the even and odd arrays\n",
    "            Console.Write(\"\\nThe Even elements are : \\n\");\n",
    "            for (i = 0; i < j; i++)\n",
    "            {\n",
    "                Console.Write(\"{0} \", arr2[i]);\n",
    "            }\n",
    "\n",
    "            Console.Write(\"\\nThe Odd elements are :\\n\");\n",
    "            for (i = 0; i < k; i++)\n",
    "            {\n",
    "                Console.Write(\"{0} \", arr3[i]);\n",
    "            }\n",
    "            Console.Write(\"\\n\\n\");\n",
    "        }\n",
    "    }\n",
    "}\n",
    "\n"
   ]
  },
  {
   "cell_type": "markdown",
   "id": "bccb1e2b",
   "metadata": {},
   "source": [
    "<center><img title=\"a title\" alt=\"Alt text\" src=\"ques4.jpg\"></center>\n"
   ]
  },
  {
   "cell_type": "markdown",
   "id": "ba4dc9b1",
   "metadata": {},
   "source": [
    "Question 5 C# \n",
    "a. Write a function inside(x,y,x1,y1,x2,y2) that returns True or False depending on whether the point (x,y) lies in the rectangle with lower left corner (x1,y1) and upper right corner (x2,y2). \n",
    "b.  Use function inside() from part a. to write an expression that tests whether the point (1,1) lies in both of the following rectangles: one with lower left corner (0.3, 0.5) and upper right corner (1.1, 0.7) and the other with lower left corner (0.5, 0.2) and upper right corner (1.1, 2).\n"
   ]
  },
  {
   "cell_type": "markdown",
   "id": "f2dcb757",
   "metadata": {},
   "source": [
    "using System;\n",
    "\n",
    "namespace Question 5\n",
    "{\n",
    "\n",
    "    class Program\n",
    "    {\n",
    "        //function to find if the point lies within the rectangle or not\n",
    "            static bool inside(int x1, int y1, int x2, int y2, int x, int y)\n",
    "            {\n",
    "                if (x > x1 && x < x2 &&  y > y1 && y < y2)\n",
    "                    return true;\n",
    "                else\n",
    "                return false;\n",
    "            }\n",
    "\n",
    "            static void Main(string[] args)\n",
    "            {\n",
    "\t    // points of the triangle \n",
    "                Console.WriteLine(\"Enter the coordinates of the rectangle: \");\n",
    "                Console.WriteLine(\"x1: \");\n",
    "                int x1 = Convert.ToInt32(Console.ReadLine());\n",
    "                Console.WriteLine(\"y1: \");\n",
    "                int y1 = Convert.ToInt32(Console.ReadLine());\n",
    "                Console.WriteLine(\"x2: \");\n",
    "                int x2 = Convert.ToInt32(Console.ReadLine());\n",
    "                Console.WriteLine(\"y2: \");\n",
    "                int y2 = Convert.ToInt32(Console.ReadLine());\n",
    "                // given point\n",
    "                Console.WriteLine(\"Enter the given point: \");\n",
    "                Console.WriteLine(\"x coordinate of the point: \");\n",
    "                int x = Convert.ToInt32(Console.ReadLine());\n",
    "                Console.WriteLine(\"y coordinate of the point: \");\n",
    "                int y = Convert.ToInt32(Console.ReadLine());\n",
    "\n",
    "                // function call\n",
    "                if (inside(x1, y1, x2, y2, x, y))\n",
    "                    Console.Write(\"Yes, the point lies within the rectangle\");\n",
    "                else\n",
    "                    Console.Write(\"No, the point doesn't ie within the rectangle\");\n",
    "\n",
    "            }\n",
    "        }\n",
    "}\n",
    "\n"
   ]
  },
  {
   "cell_type": "markdown",
   "id": "aa2bf652",
   "metadata": {},
   "source": [
    "<center><img title=\"a title\" alt=\"Alt text\" src=\"ques5.jpg\"></center>\n"
   ]
  },
  {
   "cell_type": "markdown",
   "id": "bb162f96",
   "metadata": {},
   "source": [
    "6. You can turn a word into pig-Latin using the following two rules (simplified): • If the word starts with a consonant, move that letter to the end and append 'ay'. For example, 'happy' becomes 'appyhay' and 'pencil' becomes 'encilpay'. • If the word starts with a vowel, simply append 'way' to the end of the word. For example, 'enter' becomes 'enterway' and 'other' becomes 'otherway' . For our purposes, there are 5 vowels: a, e, i, o, u (so we count y as a consonant). Write a function pig() that takes a word (i.e., a string) as input and returns its pigLatin form. Your function should still work if the input word contains upper case characters. Your output should always be lower case however.  \n",
    " \n",
    ">>> pig('happy') 'appyhay' >>> pig('Enter') 'enterway'"
   ]
  },
  {
   "cell_type": "code",
   "execution_count": 82,
   "id": "a95ada1e",
   "metadata": {},
   "outputs": [
    {
     "name": "stdout",
     "output_type": "stream",
     "text": [
      "Convert message to pig latin: Happy\n"
     ]
    },
    {
     "data": {
      "text/plain": [
       "['appyhay']"
      ]
     },
     "execution_count": 82,
     "metadata": {},
     "output_type": "execute_result"
    }
   ],
   "source": [
    "def pig(wordlist):\n",
    "    pigLatin=[]\n",
    "    char=[]\n",
    "    vowels = ['a', 'e', 'i', 'o', 'u']\n",
    "    for word in wordlist:\n",
    "        if word[0] in vowels: #case where vowel is first\n",
    "            pigLatin.append(word + 'way')\n",
    "        if word[0] not in vowels:\n",
    "            #for letter in word:\n",
    "                #char.append(letter)\n",
    "            char=[char for char in word]\n",
    "            char_f=char[1:]\n",
    "            char_f.append(char[0]+'a'+'y')\n",
    "            word_l=\"\".join(char_f)\n",
    "            pigLatin.append(word_l)\n",
    "    return pigLatin\n",
    "Message = input(\"Convert message to pig latin: \")\n",
    "wordList = Message.lower().split(\" \")           \n",
    "PigLatin=pig(wordList)\n",
    "PigLatin\n",
    "\n"
   ]
  },
  {
   "cell_type": "markdown",
   "id": "01251023",
   "metadata": {},
   "source": [
    "7. File bloodtype1.txt records blood-types of patients (A, B, AB, O or OO) at a clinic. Write a function bldcount() that reads the file with name name and reports (i.e., prints) how many patients there are in each bloodtype. \n",
    " \n",
    ">>> bldcount('bloodtype.txt') There are 10 patients of blood type A. There is one patient of blood type B. There are 10 patients of blood type AB. There are 12 patients of blood type O. There are no patients of blood type OO\n",
    "\n"
   ]
  },
  {
   "cell_type": "code",
   "execution_count": 2,
   "id": "538a640e",
   "metadata": {},
   "outputs": [
    {
     "name": "stdout",
     "output_type": "stream",
     "text": [
      "AUD\t1.0345157\tAustralian Dollar\n",
      "CHF\t1.0237414\tSwiss Franc\n",
      "CNY\t0.1550176\tChinese Yuan\n",
      "DKK\t0.1651442\tDanish Krone\n",
      "EUR\t1.2296544\tEuro\n",
      "GBP\t1.5550989\tBritish Pound\n",
      "HKD\t0.1270207\tHong Kong Dollar\n",
      "INR\t0.0177643\tIndian Rupee\n",
      "JPY\t0.01241401\tJapanese Yen\n",
      "MXN\t0.0751848\tMexican Peso\n",
      "MYR\t0.3145411\tMalaysian Ringgit\n",
      "NOK\t0.1677063\tNorwegian Krone\n",
      "NZD\t0.8003591\tNew Zealand Dollar\n",
      "PHP\t0.0233234\tPhilippine Peso\n",
      "SEK\t0.148269\tSwedish Krona\n",
      "SGD\t0.788871\tSingapore Dollar\n",
      "THB\t0.0313789\tThai Baht\n"
     ]
    }
   ],
   "source": [
    "f = open(\"currencies.txt\", \"r\")\n",
    "print(f.read())\n"
   ]
  },
  {
   "cell_type": "code",
   "execution_count": 3,
   "id": "73d6c69b",
   "metadata": {},
   "outputs": [
    {
     "name": "stdout",
     "output_type": "stream",
     "text": [
      "There are 15 patients of blood type A\n",
      "There are 2 patients of blood type B\n",
      "There are 11 patients of blood type AB\n",
      "There are 15 patients of blood type O\n",
      "There are 0 patients of blood type OO\n"
     ]
    }
   ],
   "source": [
    "def bldcount(string):\n",
    "    \n",
    "    a,b,ab,o,oo=0,0,0,0,0\n",
    "    i=0\n",
    "    name=open(string,'r')\n",
    "    x = name.read()\n",
    "    y = x.split()\n",
    "    while i < len(y):\n",
    "        if y[i]=='A':\n",
    "            a+=1\n",
    "        elif y[i]=='B':\n",
    "            b+=1\n",
    "        elif y[i]=='AB':\n",
    "            ab+=1\n",
    "        elif y[i]=='O':\n",
    "            o+=1\n",
    "        elif y[i]=='OO':\n",
    "            oo+=1\n",
    "        i+=1\n",
    "    print('There are {} patients of blood type A'.format(a))\n",
    "    print('There are {} patients of blood type B'.format(b))\n",
    "    print('There are {} patients of blood type AB'.format(ab))\n",
    "    print('There are {} patients of blood type O'.format(o))\n",
    "    print('There are {} patients of blood type OO'.format(oo))\n",
    "          \n",
    "          \n",
    "bldcount('bloodtype.txt')"
   ]
  },
  {
   "cell_type": "markdown",
   "id": "35c5e776",
   "metadata": {},
   "source": [
    "8.Write a function curconv() that takes as input: \n",
    " \n",
    "1. a currency represented using a string (e.g., 'JPY' for the Japanese Yen or 'EUR' for the Euro)\n",
    "2. an amount \n",
    " \n",
    "and then converts and returns the amount in US dollars. "
   ]
  },
  {
   "cell_type": "code",
   "execution_count": 4,
   "id": "9554080e",
   "metadata": {},
   "outputs": [
    {
     "name": "stdout",
     "output_type": "stream",
     "text": [
      "122.96544\n",
      "1.241401\n"
     ]
    }
   ],
   "source": [
    "def curconv(s,val):\n",
    "    name=open('currencies.txt','r')\n",
    "    x = name.read()\n",
    "    h = []\n",
    "    i = x.splitlines()\n",
    "    k=0\n",
    "\n",
    "    while k < len(i):\n",
    "        h.append(i[k].split())\n",
    "        k+=1\n",
    "    k=0\n",
    "    while k < len(h):\n",
    "        if h[k][0]==s:\n",
    "            res=int(val)*float(h[k][1])\n",
    "            break\n",
    "        k+=1\n",
    "    return res\n",
    "\n",
    "print(curconv('EUR',100))\n",
    "print(curconv('JPY', 100))"
   ]
  },
  {
   "cell_type": "markdown",
   "id": "e7e801d8",
   "metadata": {},
   "source": [
    "9. Each of the following will cause an exception (an error). Identify what type of exception each will cause. \n",
    " \n",
    "Trying to add incompatible variables, as in adding 6 + ‘a’ \n",
    " Referring to the 12th item of a list that has only 10 items \n",
    " \n",
    "Using a value that is out of range for a function’s input, such as calling math.sqrt(-1.0)  \n",
    " Using an undeclared variable, such as print(x) when x has not been defined  \n",
    " \n",
    "Trying to open a file that does not exist, such as mistyping the file name or looking in the wrong directory"
   ]
  },
  {
   "cell_type": "code",
   "execution_count": 5,
   "id": "f57fd1d0",
   "metadata": {},
   "outputs": [
    {
     "ename": "TypeError",
     "evalue": "unsupported operand type(s) for +: 'int' and 'str'",
     "output_type": "error",
     "traceback": [
      "\u001b[0;31m---------------------------------------------------------------------------\u001b[0m",
      "\u001b[0;31mTypeError\u001b[0m                                 Traceback (most recent call last)",
      "\u001b[0;32m<ipython-input-5-63a7ed804344>\u001b[0m in \u001b[0;36m<module>\u001b[0;34m\u001b[0m\n\u001b[0;32m----> 1\u001b[0;31m \u001b[0;36m6\u001b[0m \u001b[0;34m+\u001b[0m \u001b[0;34m'a'\u001b[0m\u001b[0;34m\u001b[0m\u001b[0;34m\u001b[0m\u001b[0m\n\u001b[0m",
      "\u001b[0;31mTypeError\u001b[0m: unsupported operand type(s) for +: 'int' and 'str'"
     ]
    }
   ],
   "source": [
    "6 + 'a'"
   ]
  },
  {
   "cell_type": "code",
   "execution_count": 6,
   "id": "0b1a02e6",
   "metadata": {},
   "outputs": [
    {
     "ename": "IndexError",
     "evalue": "list index out of range",
     "output_type": "error",
     "traceback": [
      "\u001b[0;31m---------------------------------------------------------------------------\u001b[0m",
      "\u001b[0;31mIndexError\u001b[0m                                Traceback (most recent call last)",
      "\u001b[0;32m<ipython-input-6-610a63bf98c4>\u001b[0m in \u001b[0;36m<module>\u001b[0;34m\u001b[0m\n\u001b[1;32m      1\u001b[0m \u001b[0ma\u001b[0m\u001b[0;34m=\u001b[0m\u001b[0;34m[\u001b[0m\u001b[0;36m1\u001b[0m\u001b[0;34m,\u001b[0m\u001b[0;36m3\u001b[0m\u001b[0;34m,\u001b[0m\u001b[0;36m4\u001b[0m\u001b[0;34m,\u001b[0m\u001b[0;36m6\u001b[0m\u001b[0;34m,\u001b[0m\u001b[0;36m2\u001b[0m\u001b[0;34m,\u001b[0m\u001b[0;36m6\u001b[0m\u001b[0;34m,\u001b[0m\u001b[0;36m9\u001b[0m\u001b[0;34m,\u001b[0m\u001b[0;36m0\u001b[0m\u001b[0;34m,\u001b[0m\u001b[0;36m8\u001b[0m\u001b[0;34m,\u001b[0m\u001b[0;36m9\u001b[0m\u001b[0;34m]\u001b[0m\u001b[0;34m\u001b[0m\u001b[0;34m\u001b[0m\u001b[0m\n\u001b[0;32m----> 2\u001b[0;31m \u001b[0mprint\u001b[0m\u001b[0;34m(\u001b[0m\u001b[0ma\u001b[0m\u001b[0;34m[\u001b[0m\u001b[0;36m12\u001b[0m\u001b[0;34m]\u001b[0m\u001b[0;34m)\u001b[0m\u001b[0;34m\u001b[0m\u001b[0;34m\u001b[0m\u001b[0m\n\u001b[0m",
      "\u001b[0;31mIndexError\u001b[0m: list index out of range"
     ]
    }
   ],
   "source": [
    "a=[1,3,4,6,2,6,9,0,8,9]\n",
    "print(a[12])"
   ]
  },
  {
   "cell_type": "code",
   "execution_count": 7,
   "id": "a74e4879",
   "metadata": {},
   "outputs": [
    {
     "ename": "IndexError",
     "evalue": "list index out of range",
     "output_type": "error",
     "traceback": [
      "\u001b[0;31m---------------------------------------------------------------------------\u001b[0m",
      "\u001b[0;31mIndexError\u001b[0m                                Traceback (most recent call last)",
      "\u001b[0;32m<ipython-input-7-28ecaf46dd13>\u001b[0m in \u001b[0;36m<module>\u001b[0;34m\u001b[0m\n\u001b[1;32m      1\u001b[0m \u001b[0ma\u001b[0m\u001b[0;34m=\u001b[0m\u001b[0;34m[\u001b[0m\u001b[0;36m0\u001b[0m\u001b[0;34m,\u001b[0m\u001b[0;36m1\u001b[0m\u001b[0;34m,\u001b[0m\u001b[0;36m2\u001b[0m\u001b[0;34m,\u001b[0m\u001b[0;36m3\u001b[0m\u001b[0;34m,\u001b[0m\u001b[0;36m4\u001b[0m\u001b[0;34m,\u001b[0m\u001b[0;36m5\u001b[0m\u001b[0;34m,\u001b[0m\u001b[0;36m6\u001b[0m\u001b[0;34m,\u001b[0m\u001b[0;36m7\u001b[0m\u001b[0;34m,\u001b[0m\u001b[0;36m8\u001b[0m\u001b[0;34m,\u001b[0m\u001b[0;36m9\u001b[0m\u001b[0;34m]\u001b[0m\u001b[0;34m\u001b[0m\u001b[0;34m\u001b[0m\u001b[0m\n\u001b[0;32m----> 2\u001b[0;31m \u001b[0mprint\u001b[0m\u001b[0;34m(\u001b[0m\u001b[0ma\u001b[0m\u001b[0;34m[\u001b[0m\u001b[0;36m12\u001b[0m\u001b[0;34m]\u001b[0m\u001b[0;34m)\u001b[0m\u001b[0;34m\u001b[0m\u001b[0;34m\u001b[0m\u001b[0m\n\u001b[0m",
      "\u001b[0;31mIndexError\u001b[0m: list index out of range"
     ]
    }
   ],
   "source": [
    "a=[0,1,2,3,4,5,6,7,8,9]\n",
    "print(a[12])"
   ]
  },
  {
   "cell_type": "code",
   "execution_count": 8,
   "id": "34ea2af6",
   "metadata": {},
   "outputs": [
    {
     "ename": "ValueError",
     "evalue": "math domain error",
     "output_type": "error",
     "traceback": [
      "\u001b[0;31m---------------------------------------------------------------------------\u001b[0m",
      "\u001b[0;31mValueError\u001b[0m                                Traceback (most recent call last)",
      "\u001b[0;32m<ipython-input-8-d39e523296ce>\u001b[0m in \u001b[0;36m<module>\u001b[0;34m\u001b[0m\n\u001b[1;32m      1\u001b[0m \u001b[0;32mimport\u001b[0m \u001b[0mmath\u001b[0m\u001b[0;34m\u001b[0m\u001b[0;34m\u001b[0m\u001b[0m\n\u001b[0;32m----> 2\u001b[0;31m \u001b[0mmath\u001b[0m\u001b[0;34m.\u001b[0m\u001b[0msqrt\u001b[0m\u001b[0;34m(\u001b[0m\u001b[0;34m-\u001b[0m\u001b[0;36m1.0\u001b[0m\u001b[0;34m)\u001b[0m\u001b[0;34m\u001b[0m\u001b[0;34m\u001b[0m\u001b[0m\n\u001b[0m",
      "\u001b[0;31mValueError\u001b[0m: math domain error"
     ]
    }
   ],
   "source": [
    "import math\n",
    "math.sqrt(-1.0)"
   ]
  },
  {
   "cell_type": "code",
   "execution_count": 9,
   "id": "00c078ce",
   "metadata": {},
   "outputs": [
    {
     "ename": "NameError",
     "evalue": "name 'x' is not defined",
     "output_type": "error",
     "traceback": [
      "\u001b[0;31m---------------------------------------------------------------------------\u001b[0m",
      "\u001b[0;31mNameError\u001b[0m                                 Traceback (most recent call last)",
      "\u001b[0;32m<ipython-input-9-fc17d851ef81>\u001b[0m in \u001b[0;36m<module>\u001b[0;34m\u001b[0m\n\u001b[0;32m----> 1\u001b[0;31m \u001b[0mprint\u001b[0m\u001b[0;34m(\u001b[0m\u001b[0mx\u001b[0m\u001b[0;34m)\u001b[0m\u001b[0;34m\u001b[0m\u001b[0;34m\u001b[0m\u001b[0m\n\u001b[0m",
      "\u001b[0;31mNameError\u001b[0m: name 'x' is not defined"
     ]
    }
   ],
   "source": [
    "print(x)"
   ]
  },
  {
   "cell_type": "code",
   "execution_count": 10,
   "id": "e357aec0",
   "metadata": {},
   "outputs": [
    {
     "ename": "FileNotFoundError",
     "evalue": "[Errno 2] No such file or directory: 'blooooodtype1.txt'",
     "output_type": "error",
     "traceback": [
      "\u001b[0;31m---------------------------------------------------------------------------\u001b[0m",
      "\u001b[0;31mFileNotFoundError\u001b[0m                         Traceback (most recent call last)",
      "\u001b[0;32m<ipython-input-10-9e08710789d5>\u001b[0m in \u001b[0;36m<module>\u001b[0;34m\u001b[0m\n\u001b[0;32m----> 1\u001b[0;31m \u001b[0mfile\u001b[0m\u001b[0;34m=\u001b[0m\u001b[0mopen\u001b[0m\u001b[0;34m(\u001b[0m\u001b[0;34m'blooooodtype1.txt'\u001b[0m\u001b[0;34m,\u001b[0m\u001b[0;34m'r'\u001b[0m\u001b[0;34m)\u001b[0m\u001b[0;34m\u001b[0m\u001b[0;34m\u001b[0m\u001b[0m\n\u001b[0m",
      "\u001b[0;31mFileNotFoundError\u001b[0m: [Errno 2] No such file or directory: 'blooooodtype1.txt'"
     ]
    }
   ],
   "source": [
    "file=open('blooooodtype1.txt','r')"
   ]
  },
  {
   "cell_type": "markdown",
   "id": "6a31e6e5",
   "metadata": {},
   "source": [
    "10. Encryption is the process of hiding the meaning of a text by substituting letters in the message with other letters, according to some system. If the process is successful, no one but the intended recipient can understand the encrypted message. Cryptanalysis refers to attempts to undo the encryption, even if some details of the encryption are unknown (for example, if an encrypted message has been intercepted). The first step of cryptanalysis is often to build up a table of letter frequencies in the encrypted text. Assume that the string letters is already defined as 'abcdefghijklmnopqrstuvwxyz'. Write a function called frequencies() that takes a string as its only parameter, and returns a list of integers, showing the number of times each character appears in the text. Your function may ignore any characters that are not in letters.  \n",
    " \n",
    ">>> frequencies('The quick red fox got bored and went home.') [1, 1, 1, 3, 5, 1, 1, 2, 1, 0, 1, 0, 1, 2, 4, 0, 1, 2, 0, 2, 1, 0, 1, 1, 0, 0] >>> frequencies('apple') "
   ]
  },
  {
   "cell_type": "code",
   "execution_count": 11,
   "id": "ab27cc0d",
   "metadata": {},
   "outputs": [
    {
     "name": "stdout",
     "output_type": "stream",
     "text": [
      "[1, 1, 1, 3, 5, 1, 1, 2, 1, 0, 1, 0, 1, 2, 4, 0, 1, 2, 0, 2, 1, 0, 1, 1, 0, 0]\n",
      "[1, 0, 0, 0, 1, 0, 0, 0, 0, 0, 0, 1, 0, 0, 0, 2, 0, 0, 0, 0, 0, 0, 0, 0, 0, 0]\n"
     ]
    }
   ],
   "source": [
    "def frequencies(strings):\n",
    "    word = []\n",
    "    alpha = 'abcdefghijklmnopqrstuvwxyz'\n",
    "    for i in range(len(alpha)):\n",
    "        count = 0\n",
    "        frequency=0\n",
    "        while frequency < len(strings):\n",
    "            if alpha[i] == strings[frequency]:\n",
    "                count += 1\n",
    "            frequency+=1\n",
    "        word.append(count)\n",
    "    print(word)\n",
    "    \n",
    "frequencies('The quick red fox got bored and went home.')\n",
    "frequencies('apple')"
   ]
  },
  {
   "cell_type": "code",
   "execution_count": null,
   "id": "d52087b4",
   "metadata": {},
   "outputs": [],
   "source": []
  }
 ],
 "metadata": {
  "kernelspec": {
   "display_name": "Python 3",
   "language": "python",
   "name": "python3"
  },
  "language_info": {
   "codemirror_mode": {
    "name": "ipython",
    "version": 3
   },
   "file_extension": ".py",
   "mimetype": "text/x-python",
   "name": "python",
   "nbconvert_exporter": "python",
   "pygments_lexer": "ipython3",
   "version": "3.8.8"
  }
 },
 "nbformat": 4,
 "nbformat_minor": 5
}
